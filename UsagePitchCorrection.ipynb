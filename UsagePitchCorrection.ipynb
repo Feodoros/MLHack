{
 "cells": [
  {
   "cell_type": "code",
   "execution_count": 32,
   "metadata": {},
   "outputs": [],
   "source": [
    "from IPython.display import Audio\n",
    "import librosa\n",
    "import librosa.display\n",
    "import numpy as np\n",
    "import os\n",
    "from matplotlib import pyplot as plt\n",
    "import random\n",
    "import pandas as pd\n",
    "import tensorflow as tf"
   ]
  },
  {
   "cell_type": "code",
   "execution_count": 33,
   "metadata": {},
   "outputs": [],
   "source": [
    "model = tf.keras.models.load_model(\"my_model.h5\", custom_objects=None, compile=True)"
   ]
  },
  {
   "cell_type": "code",
   "execution_count": 34,
   "metadata": {},
   "outputs": [],
   "source": [
    "def long_boundaries(times):\n",
    "    \n",
    "    result = []\n",
    "    for i in range(len(times)-1):\n",
    "        result.append((times[i],times[i+1]))\n",
    "    return sorted(result,key=lambda x:x[1]-x[0],reverse=True)"
   ]
  },
  {
   "cell_type": "code",
   "execution_count": 35,
   "metadata": {},
   "outputs": [],
   "source": [
    "def get_cqt_and_peaks(directory):\n",
    "    y,sr = librosa.load(directory)\n",
    "\n",
    "    onset_env = librosa.onset.onset_strength(y=y, sr=sr,\n",
    "                                         hop_length=512,\n",
    "                                         aggregate=np.median)\n",
    "    peaks = librosa.util.peak_pick(onset_env, 3, 3, 3, 5, 0.5, 10)\n",
    "    peaks = np.append(np.insert(peaks,0,0.0),librosa.time_to_frames(y.shape[0]/sr))\n",
    "    C = np.abs(librosa.cqt(y, sr=sr))\n",
    "    bounds = np.round(np.array(long_boundaries(librosa.frames_to_time(peaks)))*sr)\n",
    "    return C,librosa.time_to_frames(bounds/sr)"
   ]
  },
  {
   "cell_type": "code",
   "execution_count": 36,
   "metadata": {},
   "outputs": [],
   "source": [
    "def grouping(intervals, size_of_column=10):  \n",
    "\n",
    "    # Fill intervals with numbers\n",
    "    groups = [] \n",
    "    for interval in intervals:\n",
    "        group = []\n",
    "        for i in range(interval[0], interval[1]):\n",
    "            group.append(i)\n",
    "        groups.append(group)    \n",
    "        \n",
    "    # Make clusters of intervals\n",
    "    clusters = []\n",
    "    for group in groups:\n",
    "        cluster = []\n",
    "        for i in range(0, round(len(group)/size_of_column) ):\n",
    "            cluster.append(group[i*size_of_column:size_of_column*(i+1):])\n",
    "        clusters.append(list(filter(lambda x: len(x) >= size_of_column, cluster)))  \n",
    "        \n",
    "    return clusters"
   ]
  },
  {
   "cell_type": "code",
   "execution_count": 37,
   "metadata": {},
   "outputs": [],
   "source": [
    "def get_input(song):\n",
    "    X_train = []\n",
    "    song_reduced = song[8:]\n",
    "\n",
    "    cqt, bounds = get_cqt_and_peaks(song)\n",
    "\n",
    "    groups = grouping(list(bounds))\n",
    "#     print(len(bounds),len(groups))\n",
    "\n",
    "\n",
    "    for k in range(len(groups)):\n",
    "        for j in range(len(groups[k])):\n",
    "            X_train.append([cqt[:,i] for i in groups[k][j]])\n",
    "\n",
    "#     print(len(X_train))\n",
    "    return X_train"
   ]
  },
  {
   "cell_type": "code",
   "execution_count": 38,
   "metadata": {},
   "outputs": [],
   "source": [
    "def get_shifts(song):\n",
    "    X_train = np.array(get_input(song))\n",
    "    print(X_train.shape)\n",
    "    return model.predict([X_train.reshape(X_train.shape[0],10,84,1),X_train.reshape(X_train.shape[0],10,84)])"
   ]
  },
  {
   "cell_type": "code",
   "execution_count": 39,
   "metadata": {},
   "outputs": [],
   "source": [
    "def shift(song,shifts,new_path):\n",
    "    _, bounds = get_cqt_and_peaks(song)\n",
    "    if len(shifts)!=len(bounds):\n",
    "        print(len(bounds),len(shifts))\n",
    "        print(shifts)\n",
    "        \n",
    "    y,sr = librosa.load(song)\n",
    "    for i in range(len(bounds)):\n",
    "        bounds[i] = librosa.frames_to_time(bounds[i]/sr)\n",
    "        if int(bounds[i][1])-int(bounds[i][0])>0:\n",
    "            y_third = librosa.effects.pitch_shift(y[int(bounds[i][0])+1:int(bounds[i][1])-1], sr, n_steps=-shifts[i])\n",
    "            y[int(bounds[i][0])+1:int(bounds[i][1])-1]=y_third\n",
    "    librosa.output.write_wav(new_path,y,sr)"
   ]
  },
  {
   "cell_type": "code",
   "execution_count": 40,
   "metadata": {},
   "outputs": [],
   "source": [
    "def correct_song(song,new_path):\n",
    "    shift(song,get_shifts(song),new_path)"
   ]
  },
  {
   "cell_type": "code",
   "execution_count": 41,
   "metadata": {},
   "outputs": [
    {
     "name": "stdout",
     "output_type": "stream",
     "text": [
      "(35, 10, 84)\n",
      "22 35\n",
      "[[-19.395876  ]\n",
      " [ -5.311887  ]\n",
      " [ -6.8816466 ]\n",
      " [ -8.311442  ]\n",
      " [ -0.32012853]\n",
      " [ -0.67480886]\n",
      " [  0.30232286]\n",
      " [ -8.206475  ]\n",
      " [ -9.895735  ]\n",
      " [  2.0562737 ]\n",
      " [ -0.8203241 ]\n",
      " [ -1.2406154 ]\n",
      " [ -3.9383307 ]\n",
      " [  6.2595525 ]\n",
      " [ -5.511987  ]\n",
      " [ -3.305151  ]\n",
      " [-15.089432  ]\n",
      " [  1.0225666 ]\n",
      " [  0.4240605 ]\n",
      " [  5.7863984 ]\n",
      " [  8.91118   ]\n",
      " [ -8.012244  ]\n",
      " [ -5.9830003 ]\n",
      " [  1.174616  ]\n",
      " [  0.25712886]\n",
      " [ -9.644134  ]\n",
      " [ -5.281691  ]\n",
      " [ -0.4830012 ]\n",
      " [ -0.17655832]\n",
      " [  0.4569963 ]\n",
      " [ -4.553592  ]\n",
      " [  1.2836503 ]\n",
      " [  0.5254557 ]\n",
      " [  1.2217233 ]\n",
      " [ -2.961696  ]]\n"
     ]
    }
   ],
   "source": [
    "correct_song('test2_real.wav','new2.wav')"
   ]
  },
  {
   "cell_type": "code",
   "execution_count": null,
   "metadata": {},
   "outputs": [],
   "source": []
  }
 ],
 "metadata": {
  "kernelspec": {
   "display_name": "Python 3",
   "language": "python",
   "name": "python3"
  },
  "language_info": {
   "codemirror_mode": {
    "name": "ipython",
    "version": 3
   },
   "file_extension": ".py",
   "mimetype": "text/x-python",
   "name": "python",
   "nbconvert_exporter": "python",
   "pygments_lexer": "ipython3",
   "version": "3.5.6"
  },
  "toc": {
   "base_numbering": 1,
   "nav_menu": {},
   "number_sections": true,
   "sideBar": true,
   "skip_h1_title": false,
   "title_cell": "Table of Contents",
   "title_sidebar": "Contents",
   "toc_cell": false,
   "toc_position": {},
   "toc_section_display": true,
   "toc_window_display": false
  }
 },
 "nbformat": 4,
 "nbformat_minor": 4
}
